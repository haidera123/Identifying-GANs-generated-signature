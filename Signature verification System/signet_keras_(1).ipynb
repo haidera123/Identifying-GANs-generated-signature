{
  "cells": [
    {
      "cell_type": "code",
      "execution_count": null,
      "metadata": {
        "colab": {
          "base_uri": "https://localhost:8080/"
        },
        "id": "w5-NBFgwt94A",
        "outputId": "017ad09a-dfab-4c55-e629-605aa13e6eb7"
      },
      "outputs": [
        {
          "output_type": "stream",
          "name": "stdout",
          "text": [
            "Drive already mounted at /content/drive; to attempt to forcibly remount, call drive.mount(\"/content/drive\", force_remount=True).\n"
          ]
        }
      ],
      "source": [
        "from google.colab import drive\n",
        "drive.mount('/content/drive')"
      ]
    },
    {
      "cell_type": "code",
      "execution_count": null,
      "metadata": {
        "colab": {
          "base_uri": "https://localhost:8080/"
        },
        "id": "GMvkAp8osH-c",
        "outputId": "f242e32d-7b49-46df-dd25-325b1b076a8a"
      },
      "outputs": [
        {
          "output_type": "stream",
          "name": "stdout",
          "text": [
            "Requirement already satisfied: mahotas in /usr/local/lib/python3.10/dist-packages (1.4.13)\n",
            "Requirement already satisfied: numpy in /usr/local/lib/python3.10/dist-packages (from mahotas) (1.23.5)\n"
          ]
        }
      ],
      "source": [
        "!pip install mahotas\n",
        "import mahotas\n",
        "import cv2\n",
        "from skimage import util\n",
        "\n",
        "def remove_background(image_path):\n",
        "    # Load the image\n",
        "    img = mahotas.imread(image_path)\n",
        "\n",
        "    # Check if the image has three channels\n",
        "    if len(img.shape) == 3 and img.shape[-1] == 3:\n",
        "        # Convert to grayscale\n",
        "        img = cv2.cvtColor(img, cv2.COLOR_BGR2GRAY)\n",
        "\n",
        "    # If the image has more than two dimensions, take the first channel\n",
        "    if len(img.shape) > 2:\n",
        "        img = img[:, :, 0]\n",
        "\n",
        "    # Perform Otsu thresholding to separate foreground and background\n",
        "    T_otsu = mahotas.otsu(img)\n",
        "    thresholded_img = img > T_otsu\n",
        "\n",
        "    # Create a mask to keep the foreground in grayscale and set the background to white\n",
        "    grayscale_img = img.copy()\n",
        "    grayscale_img[thresholded_img] = 255  # Set foreground to white\n",
        "\n",
        "    # Resize the image and add a single channel\n",
        "    resized_img = cv2.resize(grayscale_img, (220, 155))\n",
        "    resized_img = resized_img.reshape(resized_img.shape + (1,))\n",
        "\n",
        "    return util.img_as_float(resized_img)\n",
        "\n",
        "\n",
        "# Example usage:\n",
        "# image_path = \"/content/org_1.png\"\n",
        "# result_image = remove_background(image_path)\n",
        "# print(result_image.shape)\n"
      ]
    },
    {
      "cell_type": "code",
      "execution_count": null,
      "metadata": {
        "colab": {
          "base_uri": "https://localhost:8080/"
        },
        "id": "sdf1JpLFlAhX",
        "outputId": "21daef7b-3788-4a73-bd84-6f3f9df27160"
      },
      "outputs": [
        {
          "output_type": "stream",
          "name": "stdout",
          "text": [
            "Successfully extracted '/content/drive/MyDrive/CEDAR_SIG.zip' to '/content/dataset'.\n"
          ]
        }
      ],
      "source": [
        "import zipfile\n",
        "import os\n",
        "\n",
        "def extract_zip_file(zip_file_path, extract_path):\n",
        "    # Check if the zip file exists\n",
        "    if not os.path.exists(zip_file_path):\n",
        "        print(f\"Error: Zip file '{zip_file_path}' not found.\")\n",
        "        return\n",
        "\n",
        "    # Check if the extraction path exists, if not create it\n",
        "    if not os.path.exists(extract_path):\n",
        "        os.makedirs(extract_path)\n",
        "\n",
        "    try:\n",
        "        # Extract the contents of the zip file\n",
        "        with zipfile.ZipFile(zip_file_path, 'r') as zip_ref:\n",
        "            zip_ref.extractall(extract_path)\n",
        "        print(f\"Successfully extracted '{zip_file_path}' to '{extract_path}'.\")\n",
        "    except Exception as e:\n",
        "        print(f\"Error: Failed to extract '{zip_file_path}'. {e}\")\n",
        "\n",
        "# Example usage\n",
        "zip_file_path = '/content/drive/MyDrive/CEDAR_SIG.zip'\n",
        "extract_path = '/content/dataset'\n",
        "extract_zip_file(zip_file_path, extract_path)\n"
      ]
    },
    {
      "cell_type": "code",
      "execution_count": null,
      "metadata": {
        "id": "L13V8vG_aAW9"
      },
      "outputs": [],
      "source": [
        "# PATH_ORG = \"/content/dataset/CEDAR_SIG/full_org\"\n",
        "# PATH_FORG = \"/content/dataset/CEDAR_SIG/full_forg\"\n",
        "PATH_ORG = \"/content/dataset/CEDAR_SIG/full_forg\"\n",
        "PATH_FORG = \"/content/dataset/CEDAR_SIG/full_org\""
      ]
    },
    {
      "cell_type": "code",
      "execution_count": null,
      "metadata": {
        "id": "RkSYqGtiVJzY"
      },
      "outputs": [],
      "source": [
        "import os\n",
        "from natsort import natsorted, ns\n",
        "\n",
        "def get_image_list():\n",
        "  org_signs = os.listdir(PATH_ORG)\n",
        "  forg_signs = os.listdir(PATH_FORG)\n",
        "  org_signs = [s for s in org_signs if s.endswith(\".png\")]\n",
        "  forg_signs = [s for s in forg_signs if s.endswith(\".png\")]\n",
        "  org_signs = natsorted(org_signs, alg=ns.IGNORECASE)\n",
        "  forg_signs = natsorted(forg_signs, alg=ns.IGNORECASE)\n",
        "  return org_signs, forg_signs\n",
        "\n",
        "# data cleaning\n",
        "def check_lists(org_signs,forg_signs):\n",
        "  flag = False\n",
        "  for i in range(len(org_signs)):\n",
        "    org_ext = org_signs[i][8:]\n",
        "    forg_ext = forg_signs[i][9:]\n",
        "    if org_ext != forg_ext:\n",
        "      flag = True\n",
        "      #print(i,org_ext,forg_ext)\n",
        "  '''if(flag):\n",
        "    #print(\"Mismatches found\")\n",
        "  else:\n",
        "    #print(\"No mismatch found\")\n",
        "'''\n",
        "def refine_lists(org_signs,forg_signs):\n",
        "  refined_org_signs = []\n",
        "  for i in range(len(org_signs)):\n",
        "    if \"_41_\" in org_signs[i]:\n",
        "      continue\n",
        "    refined_org_signs.append(org_signs[i])\n",
        "\n",
        "  refined_forg_signs = []\n",
        "  for i in range(len(forg_signs)):\n",
        "    if \"_41_\" in forg_signs[i]:\n",
        "      continue\n",
        "    refined_forg_signs.append(forg_signs[i])\n",
        "  return refined_org_signs, refined_forg_signs\n",
        "\n",
        "def get_clean_lists():\n",
        "  org_signs, forg_signs = get_image_list()\n",
        "  check_lists(org_signs,forg_signs)\n",
        "  org_signs, forg_signs = refine_lists(org_signs,forg_signs)\n",
        "  #print(len(org_signs),len(forg_signs))\n",
        "  check_lists(org_signs,forg_signs)\n",
        "  return org_signs, forg_signs\n",
        "\n",
        "import random\n",
        "import pandas as pd\n",
        "import numpy as np\n",
        "\n",
        "def get_dataframe(org_signs,forg_signs):\n",
        "  no_of_ppl = len(org_signs)//24\n",
        "\n",
        "  raw_data = {\"image_1\":[], \"image_2\":[], \"label\":[]}\n",
        "  for i in range(no_of_ppl):\n",
        "    i1_batch_1 = []\n",
        "    i1_batch_2 = []\n",
        "    i2_batch = []\n",
        "\n",
        "    start = i*24\n",
        "    end = (i+1)*24\n",
        "\n",
        "    for j in range(start,end):\n",
        "      i1_batch_1.append(os.path.join(PATH_ORG,org_signs[j]))\n",
        "      i1_batch_2.append(os.path.join(PATH_ORG,org_signs[j]))\n",
        "      raw_data[\"label\"].append(1)#0\n",
        "\n",
        "    temp_rot = (i1_batch_1[-12:]+i1_batch_1[:-12])\n",
        "    i1_batch_1.extend(i1_batch_2)\n",
        "\n",
        "    for elem in temp_rot:\n",
        "      i2_batch.append(elem)\n",
        "\n",
        "    for j in range(start,end):\n",
        "      i2_batch.append(os.path.join(PATH_FORG,forg_signs[j]))\n",
        "      raw_data[\"label\"].append(0)#1\n",
        "\n",
        "    raw_data[\"image_1\"].extend(i1_batch_1)\n",
        "    raw_data[\"image_2\"].extend(i2_batch)\n",
        "  df = pd.DataFrame(raw_data, columns = [\"image_1\",\"image_2\",\"label\"])\n",
        "  df=df.reindex(np.random.permutation(df.index))\n",
        "  return df\n",
        "\n",
        "from sklearn.model_selection import train_test_split\n",
        "\n",
        "def get_dataset(subset=None):\n",
        "  org_signs,forg_signs = get_clean_lists()\n",
        "  df = get_dataframe(org_signs,forg_signs)\n",
        "  #print(df.shape)\n",
        "  train_set, val_set = train_test_split(df,test_size=0.3,random_state=0)\n",
        "  if(subset.lower()==\"train\"):\n",
        "    dataset = train_set\n",
        "  else:\n",
        "    dataset = val_set\n",
        "  return dataset"
      ]
    },
    {
      "cell_type": "code",
      "execution_count": null,
      "metadata": {
        "id": "tBLZsJmOaai3"
      },
      "outputs": [],
      "source": [
        "\n",
        "import numpy as np\n",
        "import keras\n",
        "from PIL import Image\n",
        "import cv2\n",
        "\n",
        "class DataGenerator(keras.utils.Sequence):\n",
        "\n",
        "    def __init__(self, df, batch_size=32, dim=(155,220), n_channels=3, shuffle=True):\n",
        "        self.dim = dim\n",
        "        self.batch_size = batch_size\n",
        "        self.df = df\n",
        "        self.labels = df[\"label\"]\n",
        "        self.n_channels = n_channels\n",
        "        self.shuffle = shuffle\n",
        "        self.on_epoch_end()\n",
        "\n",
        "    def __len__(self):\n",
        "        return int(np.floor(self.df.shape[0] / self.batch_size))\n",
        "\n",
        "    def __getitem__(self, index):\n",
        "        indexes = self.indexes[index*self.batch_size:(index+1)*self.batch_size]\n",
        "        rows = [self.df.iloc[k] for k in indexes]\n",
        "        X, y = self.__data_generation(rows)\n",
        "        return X, y\n",
        "\n",
        "    def on_epoch_end(self):\n",
        "        self.indexes = np.arange(self.df.shape[0])\n",
        "        if self.shuffle == True:\n",
        "            np.random.shuffle(self.indexes)\n",
        "\n",
        "    def __data_generation(self, rows):\n",
        "        x_1 = np.empty((self.batch_size, *self.dim, self.n_channels))\n",
        "        x_2 = np.empty((self.batch_size, *self.dim, self.n_channels))\n",
        "        y = np.empty((self.batch_size), dtype=int)\n",
        "\n",
        "        for i in range(len(rows)):\n",
        "            image_1 = cv2.imread(rows[i][\"image_1\"])\n",
        "            image_1 = cv2.resize(image_1,(220,155))\n",
        "            image_1 = cv2.bitwise_not(image_1)\n",
        "            image_1=np.array(image_1)\n",
        "            image_2 = cv2.imread(rows[i][\"image_2\"])\n",
        "            image_2 = cv2.resize(image_2,(220,155))\n",
        "            image_2 = cv2.bitwise_not(image_2)\n",
        "            image_2=np.array(image_2)\n",
        "            '''mean_center_1 = image_1 - np.mean(image_1, axis = None)\n",
        "            mean_center_2 = image_2 - np.mean(image_2, axis = None)\n",
        "\n",
        "            std_1 = np.std(image_1)\n",
        "            std_2 = np.std(image_2)\n",
        "            if(std_1 == 0 or std_1 == np.nan):\n",
        "                std_1 = 1\n",
        "            if(std_2 == 0 or std_2 == np.nan):\n",
        "                std_2 = 1\n",
        "            standardized_img_1 = image_1/std_1\n",
        "            standardized_img_2 = image_2/std_2\n",
        "            '''\n",
        "            x_1[i,] = image_1/255\n",
        "            x_2[i,] = image_2/255\n",
        "            y[i] = rows[i][\"label\"]\n",
        "\n",
        "\n",
        "        return [x_1, x_2], y"
      ]
    },
    {
      "cell_type": "code",
      "execution_count": null,
      "metadata": {
        "id": "1oCcDpZhxAfq"
      },
      "outputs": [],
      "source": [
        "\n",
        "from keras import models\n",
        "from keras.layers import Conv2D, MaxPooling2D, Dense, Activation, BatchNormalization, Input, Dropout, Flatten\n",
        "from keras.models import Model\n",
        "\n",
        "def get_base_net():\n",
        "  input = Input(shape=(155,220,3))\n",
        "\n",
        "  conv_1 = Conv2D(filters=96, kernel_size=(11,11))(input)\n",
        "  batch_norm_1 = BatchNormalization()(conv_1)\n",
        "  activation_1 = Activation('relu')(batch_norm_1)\n",
        "  max_pool_1 = MaxPooling2D(pool_size=(3,3))(activation_1)\n",
        "\n",
        "  conv_2 = Conv2D(filters=256, kernel_size=(5,5))(max_pool_1)\n",
        "  batch_norm_2 = BatchNormalization()(conv_2)\n",
        "  activation_2 = Activation('relu')(batch_norm_2)\n",
        "  max_pool_2 = MaxPooling2D(pool_size=(3,3))(activation_1)\n",
        "\n",
        "  dropout_1 = Dropout(rate=0.3)(max_pool_2)\n",
        "\n",
        "  conv_3_a = Conv2D(filters=384, kernel_size=(3,3))(dropout_1)\n",
        "  activation_3_a = Activation('relu')(conv_3_a)\n",
        "  conv_3_b = Conv2D(filters=256, kernel_size=(3,3))(activation_3_a)\n",
        "  activation_3_b = Activation('relu')(conv_3_b)\n",
        "  max_pool_3 = MaxPooling2D(pool_size=(3,3))(activation_3_b)\n",
        "\n",
        "  dropout_2 = Dropout(rate=0.3)(max_pool_3)\n",
        "\n",
        "  flat_1 = Flatten()(dropout_2)\n",
        "  fc_1 = Dense(units=1024,activation='relu')(flat_1)\n",
        "  dropout_3 = Dropout(rate=0.5)(fc_1)\n",
        "  fc_2 = Dense(units=128,activation='relu')(dropout_3)\n",
        "  return Model(input,fc_2)"
      ]
    },
    {
      "cell_type": "code",
      "execution_count": null,
      "metadata": {
        "id": "akHC-9pD_QJb"
      },
      "outputs": [],
      "source": [
        "from keras import backend as K\n",
        "\n",
        "def euclidean_distance(vects):\n",
        "    x, y = vects\n",
        "    sum_square = K.sum(K.square(x - y), axis=1, keepdims=True)\n",
        "    return K.sqrt(K.maximum(sum_square, K.epsilon()))\n",
        "\n",
        "\n",
        "def eucl_dist_output_shape(shapes):\n",
        "    shape1, shape2 = shapes\n",
        "    return (shape1[0], 1)\n"
      ]
    },
    {
      "cell_type": "code",
      "execution_count": null,
      "metadata": {
        "id": "r-WsFbXsBKqY"
      },
      "outputs": [],
      "source": [
        "import tensorflow as tf\n",
        "def contrastive_loss(y_true, y_pred):\n",
        "    margin = 1\n",
        "    sqaure_pred = K.square(y_pred)\n",
        "    margin_square = K.square(K.maximum(margin - y_pred, 0))\n",
        "    y_true = tf.cast(y_true, tf.float32)\n",
        "\n",
        "    return K.mean(y_true * sqaure_pred + (1 - y_true) * margin_square)\n",
        "\n",
        "def accuracy(y_true, y_pred):\n",
        "    return K.mean(K.equal(y_true, K.cast(y_pred < 0.5, y_true.dtype)))"
      ]
    },
    {
      "cell_type": "code",
      "execution_count": null,
      "metadata": {
        "id": "vnmcc7oJ8d3c"
      },
      "outputs": [],
      "source": [
        "from keras.layers import Lambda\n",
        "\n",
        "input_a = Input(shape=(155,220,3))\n",
        "input_b = Input(shape=(155,220,3))\n",
        "\n",
        "base_net = get_base_net()\n",
        "processed_a = base_net(input_a)\n",
        "processed_b = base_net(input_b)\n",
        "\n",
        "distance = Lambda(euclidean_distance,output_shape=eucl_dist_output_shape)([processed_a, processed_b])\n",
        "model = Model([input_a, input_b], distance)"
      ]
    },
    {
      "cell_type": "code",
      "execution_count": null,
      "metadata": {
        "id": "nnuE0iNfC-Ae"
      },
      "outputs": [],
      "source": [
        "from keras import optimizers\n",
        "optimizer = optimizers.RMSprop()\n",
        "model.compile(loss=contrastive_loss, optimizer=optimizer, metrics=[accuracy])"
      ]
    },
    {
      "cell_type": "code",
      "execution_count": null,
      "metadata": {
        "colab": {
          "base_uri": "https://localhost:8080/"
        },
        "id": "AbZWL9zuuRxU",
        "outputId": "e440b4e4-3bcc-4815-df90-0eb163575a64"
      },
      "outputs": [
        {
          "output_type": "stream",
          "name": "stderr",
          "text": [
            "<ipython-input-12-6c201fc8ee21>:19: UserWarning: `Model.fit_generator` is deprecated and will be removed in a future version. Please use `Model.fit`, which supports generators.\n",
            "  hist = model.fit_generator(generator=train_datagen, validation_data=validation_datagen, epochs=80, steps_per_epoch=56, validation_steps=24, use_multiprocessing=True, workers=1)\n"
          ]
        },
        {
          "output_type": "stream",
          "name": "stdout",
          "text": [
            "Epoch 1/80\n",
            "56/56 [==============================] - 106s 2s/step - loss: 81.6317 - accuracy: 0.6942 - val_loss: 0.1298 - val_accuracy: 0.7682\n",
            "Epoch 2/80\n",
            "56/56 [==============================] - 128s 2s/step - loss: 0.1323 - accuracy: 0.8438 - val_loss: 9.3317e-06 - val_accuracy: 1.0000\n",
            "Epoch 3/80\n",
            "56/56 [==============================] - 92s 2s/step - loss: 0.3763 - accuracy: 0.7461 - val_loss: 0.0088 - val_accuracy: 1.0000\n",
            "Epoch 4/80\n",
            "56/56 [==============================] - 115s 2s/step - loss: 0.1471 - accuracy: 0.8878 - val_loss: 0.0960 - val_accuracy: 0.8711\n",
            "Epoch 5/80\n",
            "56/56 [==============================] - 113s 2s/step - loss: 0.1198 - accuracy: 0.9314 - val_loss: 0.0025 - val_accuracy: 0.9987\n",
            "Epoch 6/80\n",
            "56/56 [==============================] - 110s 2s/step - loss: 0.0413 - accuracy: 0.9621 - val_loss: 0.3312 - val_accuracy: 0.5195\n",
            "Epoch 7/80\n",
            "56/56 [==============================] - 117s 2s/step - loss: 0.0471 - accuracy: 0.9565 - val_loss: 0.0029 - val_accuracy: 0.9961\n",
            "Epoch 8/80\n",
            "56/56 [==============================] - 107s 2s/step - loss: 0.1108 - accuracy: 0.9671 - val_loss: 0.0062 - val_accuracy: 0.9896\n",
            "Epoch 9/80\n",
            "56/56 [==============================] - 119s 2s/step - loss: 0.0254 - accuracy: 0.9766 - val_loss: 7.3247e-04 - val_accuracy: 1.0000\n",
            "Epoch 10/80\n",
            "56/56 [==============================] - 104s 2s/step - loss: 0.0155 - accuracy: 0.9805 - val_loss: 0.0668 - val_accuracy: 0.9128\n",
            "Epoch 11/80\n",
            "56/56 [==============================] - 118s 2s/step - loss: 0.3094 - accuracy: 0.9598 - val_loss: 0.0547 - val_accuracy: 0.9180\n",
            "Epoch 12/80\n",
            "56/56 [==============================] - 94s 2s/step - loss: 0.0122 - accuracy: 0.9855 - val_loss: 0.0379 - val_accuracy: 0.9531\n",
            "Epoch 13/80\n",
            "56/56 [==============================] - 119s 2s/step - loss: 0.0140 - accuracy: 0.9827 - val_loss: 0.0346 - val_accuracy: 0.9531\n",
            "Epoch 14/80\n",
            "56/56 [==============================] - 91s 2s/step - loss: 0.0717 - accuracy: 0.9671 - val_loss: 0.0564 - val_accuracy: 0.9336\n",
            "Epoch 15/80\n",
            "56/56 [==============================] - 103s 2s/step - loss: 0.0122 - accuracy: 0.9860 - val_loss: 0.0909 - val_accuracy: 0.8997\n",
            "Epoch 16/80\n",
            "56/56 [==============================] - 111s 2s/step - loss: 0.0185 - accuracy: 0.9849 - val_loss: 0.4139 - val_accuracy: 0.5195\n",
            "Epoch 17/80\n",
            "56/56 [==============================] - 120s 2s/step - loss: 0.0223 - accuracy: 0.9866 - val_loss: 0.0126 - val_accuracy: 0.9870\n",
            "Epoch 18/80\n",
            "56/56 [==============================] - 111s 2s/step - loss: 0.0311 - accuracy: 0.9721 - val_loss: 0.0086 - val_accuracy: 0.9896\n",
            "Epoch 19/80\n",
            "56/56 [==============================] - 100s 2s/step - loss: 0.0075 - accuracy: 0.9905 - val_loss: 3.5656e-04 - val_accuracy: 0.9987\n",
            "Epoch 20/80\n",
            "56/56 [==============================] - 118s 2s/step - loss: 0.0418 - accuracy: 0.9788 - val_loss: 0.0235 - val_accuracy: 0.9740\n",
            "Epoch 21/80\n",
            "56/56 [==============================] - 100s 2s/step - loss: 0.0232 - accuracy: 0.9844 - val_loss: 5.0521e-08 - val_accuracy: 1.0000\n",
            "Epoch 22/80\n",
            "56/56 [==============================] - 103s 2s/step - loss: 0.0107 - accuracy: 0.9900 - val_loss: 6.3380e-06 - val_accuracy: 1.0000\n",
            "Epoch 23/80\n",
            "56/56 [==============================] - 105s 2s/step - loss: 0.0122 - accuracy: 0.9888 - val_loss: 0.0085 - val_accuracy: 0.9922\n",
            "Epoch 24/80\n",
            "56/56 [==============================] - 108s 2s/step - loss: 0.0052 - accuracy: 0.9944 - val_loss: 6.9699e-08 - val_accuracy: 1.0000\n",
            "Epoch 25/80\n",
            "56/56 [==============================] - 104s 2s/step - loss: 0.0121 - accuracy: 0.9944 - val_loss: 5.0521e-08 - val_accuracy: 1.0000\n",
            "Epoch 26/80\n",
            "56/56 [==============================] - 101s 2s/step - loss: 0.0061 - accuracy: 0.9933 - val_loss: 5.0521e-08 - val_accuracy: 1.0000\n",
            "Epoch 27/80\n",
            "56/56 [==============================] - 107s 2s/step - loss: 0.0046 - accuracy: 0.9967 - val_loss: 0.0860 - val_accuracy: 0.9089\n",
            "Epoch 28/80\n",
            "56/56 [==============================] - 105s 2s/step - loss: 0.0805 - accuracy: 0.9660 - val_loss: 0.1746 - val_accuracy: 0.8177\n",
            "Epoch 29/80\n",
            "56/56 [==============================] - 153s 3s/step - loss: 0.0310 - accuracy: 0.9782 - val_loss: 0.1644 - val_accuracy: 0.8307\n",
            "Epoch 30/80\n",
            "56/56 [==============================] - 117s 2s/step - loss: 0.0174 - accuracy: 0.9944 - val_loss: 5.0521e-08 - val_accuracy: 1.0000\n",
            "Epoch 31/80\n",
            "56/56 [==============================] - 119s 2s/step - loss: 0.0120 - accuracy: 0.9911 - val_loss: 5.0521e-08 - val_accuracy: 1.0000\n",
            "Epoch 32/80\n",
            "56/56 [==============================] - 107s 2s/step - loss: 0.0268 - accuracy: 0.9911 - val_loss: 8.1941e-05 - val_accuracy: 1.0000\n",
            "Epoch 33/80\n",
            "56/56 [==============================] - 119s 2s/step - loss: 0.0082 - accuracy: 0.9944 - val_loss: 5.0521e-08 - val_accuracy: 1.0000\n",
            "Epoch 34/80\n",
            "56/56 [==============================] - 112s 2s/step - loss: 0.0030 - accuracy: 0.9967 - val_loss: 5.0521e-08 - val_accuracy: 1.0000\n",
            "Epoch 35/80\n",
            "56/56 [==============================] - 111s 2s/step - loss: 0.0146 - accuracy: 0.9939 - val_loss: 5.0521e-08 - val_accuracy: 1.0000\n",
            "Epoch 36/80\n",
            "56/56 [==============================] - 111s 2s/step - loss: 0.0072 - accuracy: 0.9967 - val_loss: 5.0521e-08 - val_accuracy: 1.0000\n",
            "Epoch 37/80\n",
            "56/56 [==============================] - 104s 2s/step - loss: 0.0032 - accuracy: 0.9967 - val_loss: 5.0521e-08 - val_accuracy: 1.0000\n",
            "Epoch 38/80\n",
            "56/56 [==============================] - 113s 2s/step - loss: 0.0089 - accuracy: 0.9944 - val_loss: 0.0934 - val_accuracy: 0.9036\n",
            "Epoch 39/80\n",
            "56/56 [==============================] - 95s 2s/step - loss: 0.0037 - accuracy: 0.9955 - val_loss: 0.0020 - val_accuracy: 0.9974\n",
            "Epoch 40/80\n",
            "56/56 [==============================] - 121s 2s/step - loss: 0.0270 - accuracy: 0.9944 - val_loss: 0.0198 - val_accuracy: 0.9805\n",
            "Epoch 41/80\n",
            "56/56 [==============================] - 118s 2s/step - loss: 0.0030 - accuracy: 0.9967 - val_loss: 5.0521e-08 - val_accuracy: 1.0000\n",
            "Epoch 42/80\n",
            "56/56 [==============================] - 121s 2s/step - loss: 0.0044 - accuracy: 0.9944 - val_loss: 5.0521e-08 - val_accuracy: 1.0000\n",
            "Epoch 43/80\n",
            "56/56 [==============================] - 116s 2s/step - loss: 0.0190 - accuracy: 0.9883 - val_loss: 0.3891 - val_accuracy: 0.6068\n",
            "Epoch 44/80\n",
            "56/56 [==============================] - 110s 2s/step - loss: 0.0469 - accuracy: 0.9821 - val_loss: 0.0135 - val_accuracy: 0.9857\n",
            "Epoch 45/80\n",
            "56/56 [==============================] - 115s 2s/step - loss: 0.0116 - accuracy: 0.9911 - val_loss: 5.0521e-08 - val_accuracy: 1.0000\n",
            "Epoch 46/80\n",
            "56/56 [==============================] - 101s 2s/step - loss: 0.0023 - accuracy: 0.9967 - val_loss: 5.0521e-08 - val_accuracy: 1.0000\n",
            "Epoch 47/80\n",
            "56/56 [==============================] - 115s 2s/step - loss: 0.0126 - accuracy: 0.9900 - val_loss: 5.0521e-08 - val_accuracy: 1.0000\n",
            "Epoch 48/80\n",
            "56/56 [==============================] - 109s 2s/step - loss: 0.0467 - accuracy: 0.9939 - val_loss: 0.1392 - val_accuracy: 0.8568\n",
            "Epoch 49/80\n",
            "56/56 [==============================] - 160s 3s/step - loss: 0.0161 - accuracy: 0.9877 - val_loss: 5.0521e-08 - val_accuracy: 1.0000\n",
            "Epoch 50/80\n",
            "56/56 [==============================] - 113s 2s/step - loss: 0.0022 - accuracy: 0.9972 - val_loss: 5.0521e-08 - val_accuracy: 1.0000\n",
            "Epoch 51/80\n",
            "56/56 [==============================] - 114s 2s/step - loss: 0.0067 - accuracy: 0.9933 - val_loss: 5.0521e-08 - val_accuracy: 1.0000\n",
            "Epoch 52/80\n",
            "56/56 [==============================] - 119s 2s/step - loss: 0.0085 - accuracy: 0.9927 - val_loss: 1.6864e-04 - val_accuracy: 1.0000\n",
            "Epoch 53/80\n",
            "56/56 [==============================] - 113s 2s/step - loss: 0.0017 - accuracy: 0.9983 - val_loss: 5.0521e-08 - val_accuracy: 1.0000\n",
            "Epoch 54/80\n",
            "56/56 [==============================] - 114s 2s/step - loss: 0.0079 - accuracy: 0.9950 - val_loss: 5.0521e-08 - val_accuracy: 1.0000\n",
            "Epoch 55/80\n",
            "56/56 [==============================] - 100s 2s/step - loss: 0.0033 - accuracy: 0.9967 - val_loss: 5.0521e-08 - val_accuracy: 1.0000\n",
            "Epoch 56/80\n",
            "56/56 [==============================] - 114s 2s/step - loss: 0.0036 - accuracy: 0.9972 - val_loss: 5.0521e-08 - val_accuracy: 1.0000\n",
            "Epoch 57/80\n",
            "56/56 [==============================] - 98s 2s/step - loss: 0.0020 - accuracy: 0.9978 - val_loss: 5.0521e-08 - val_accuracy: 1.0000\n",
            "Epoch 58/80\n",
            "56/56 [==============================] - 96s 2s/step - loss: 0.0017 - accuracy: 0.9983 - val_loss: 5.0521e-08 - val_accuracy: 1.0000\n",
            "Epoch 59/80\n",
            "56/56 [==============================] - 109s 2s/step - loss: 0.0105 - accuracy: 0.9927 - val_loss: 0.4469 - val_accuracy: 0.5534\n",
            "Epoch 60/80\n",
            "56/56 [==============================] - 109s 2s/step - loss: 0.0151 - accuracy: 0.9872 - val_loss: 5.0521e-08 - val_accuracy: 1.0000\n",
            "Epoch 61/80\n",
            "56/56 [==============================] - 111s 2s/step - loss: 0.0029 - accuracy: 0.9972 - val_loss: 5.0521e-08 - val_accuracy: 1.0000\n",
            "Epoch 62/80\n",
            "56/56 [==============================] - 105s 2s/step - loss: 0.0028 - accuracy: 0.9972 - val_loss: 5.0521e-08 - val_accuracy: 1.0000\n",
            "Epoch 63/80\n",
            "56/56 [==============================] - 115s 2s/step - loss: 0.0031 - accuracy: 0.9967 - val_loss: 5.0521e-08 - val_accuracy: 1.0000\n",
            "Epoch 64/80\n",
            "56/56 [==============================] - 106s 2s/step - loss: 0.0041 - accuracy: 0.9961 - val_loss: 5.0521e-08 - val_accuracy: 1.0000\n",
            "Epoch 65/80\n",
            "56/56 [==============================] - 105s 2s/step - loss: 0.0028 - accuracy: 0.9972 - val_loss: 5.0521e-08 - val_accuracy: 1.0000\n",
            "Epoch 66/80\n",
            "56/56 [==============================] - 106s 2s/step - loss: 0.0028 - accuracy: 0.9967 - val_loss: 5.0521e-08 - val_accuracy: 1.0000\n",
            "Epoch 67/80\n",
            "56/56 [==============================] - 116s 2s/step - loss: 0.0027 - accuracy: 0.9972 - val_loss: 5.0521e-08 - val_accuracy: 1.0000\n",
            "Epoch 68/80\n",
            "56/56 [==============================] - 116s 2s/step - loss: 0.0027 - accuracy: 0.9972 - val_loss: 5.0521e-08 - val_accuracy: 1.0000\n",
            "Epoch 69/80\n",
            "56/56 [==============================] - 103s 2s/step - loss: 0.0022 - accuracy: 0.9978 - val_loss: 5.0521e-08 - val_accuracy: 1.0000\n",
            "Epoch 70/80\n",
            "56/56 [==============================] - 102s 2s/step - loss: 0.0026 - accuracy: 0.9972 - val_loss: 5.0521e-08 - val_accuracy: 1.0000\n",
            "Epoch 71/80\n",
            "56/56 [==============================] - 108s 2s/step - loss: 0.0035 - accuracy: 0.9961 - val_loss: 5.0521e-08 - val_accuracy: 1.0000\n",
            "Epoch 72/80\n",
            "56/56 [==============================] - 106s 2s/step - loss: 0.0017 - accuracy: 0.9983 - val_loss: 5.0521e-08 - val_accuracy: 1.0000\n",
            "Epoch 73/80\n",
            "56/56 [==============================] - 111s 2s/step - loss: 0.1361 - accuracy: 0.9967 - val_loss: 5.0521e-08 - val_accuracy: 1.0000\n",
            "Epoch 74/80\n",
            "56/56 [==============================] - 85s 2s/step - loss: 0.0399 - accuracy: 0.9888 - val_loss: 5.0521e-08 - val_accuracy: 1.0000\n",
            "Epoch 75/80\n",
            "56/56 [==============================] - 113s 2s/step - loss: 0.0017 - accuracy: 0.9983 - val_loss: 5.0521e-08 - val_accuracy: 1.0000\n",
            "Epoch 76/80\n",
            "56/56 [==============================] - 113s 2s/step - loss: 0.0030 - accuracy: 0.9972 - val_loss: 5.0521e-08 - val_accuracy: 1.0000\n",
            "Epoch 77/80\n",
            "56/56 [==============================] - 101s 2s/step - loss: 0.0017 - accuracy: 0.9983 - val_loss: 5.0521e-08 - val_accuracy: 1.0000\n",
            "Epoch 78/80\n",
            "56/56 [==============================] - 112s 2s/step - loss: 0.0019 - accuracy: 0.9978 - val_loss: 5.0521e-08 - val_accuracy: 1.0000\n",
            "Epoch 79/80\n",
            "56/56 [==============================] - 111s 2s/step - loss: 0.0029 - accuracy: 0.9972 - val_loss: 5.0521e-08 - val_accuracy: 1.0000\n",
            "Epoch 80/80\n",
            "56/56 [==============================] - 91s 2s/step - loss: 0.0080 - accuracy: 0.9916 - val_loss: 0.0037 - val_accuracy: 0.9987\n"
          ]
        }
      ],
      "source": [
        "params={\n",
        "    'dim': (155,220),\n",
        "    'batch_size': 32,\n",
        "    'n_channels': 3,\n",
        "    'shuffle': False\n",
        "}\n",
        "\n",
        "#train_set = 2592*0.7 = 1814 == 1814/32 == 56\n",
        "#val_set = 2592*0.3 = 777 == 777/32 == 24\n",
        "ds_train = get_dataset(\"train\")\n",
        "ds_val = get_dataset(\"val\")\n",
        "train_datagen = DataGenerator(ds_train,**params)\n",
        "validation_datagen = DataGenerator(ds_val,**params)\n",
        "# Iterate through the DataGenerator\n",
        "# for data in train_datagen:\n",
        "#     # Process each data item in the generator\n",
        "#     print('....')\n",
        "#     print(np.array(data).shape)\n",
        "hist = model.fit_generator(generator=train_datagen, validation_data=validation_datagen, epochs=80, steps_per_epoch=56, validation_steps=24, use_multiprocessing=True, workers=1)"
      ]
    },
    {
      "cell_type": "code",
      "execution_count": null,
      "metadata": {
        "colab": {
          "base_uri": "https://localhost:8080/",
          "height": 569
        },
        "id": "BvBhjhXi95Fz",
        "outputId": "ce468918-cbf5-4b7c-8f46-9a4be3ce852d"
      },
      "outputs": [
        {
          "output_type": "display_data",
          "data": {
            "text/plain": [
              "<Figure size 1200x600 with 2 Axes>"
            ],
            "image/png": "[encoded data removed]"
          },
          "metadata": {}
        }
      ],
      "source": [
        "import matplotlib.pyplot as plt\n",
        "\n",
        "# Assuming 'history' is your history object\n",
        "# history = model.fit(...)\n",
        "history = hist\n",
        "# Plot training & validation loss values\n",
        "plt.figure(figsize=(12, 6))\n",
        "\n",
        "# Plot training loss\n",
        "plt.subplot(1, 2, 1)\n",
        "plt.plot(history.history['loss'], label='Train')\n",
        "# Plot validation loss\n",
        "plt.plot(history.history['val_loss'], label='Validation')\n",
        "\n",
        "plt.title('Model loss')\n",
        "plt.xlabel('Epoch')\n",
        "plt.ylabel('Loss')\n",
        "plt.legend()\n",
        "\n",
        "# Plot training & validation accuracy values\n",
        "plt.subplot(1, 2, 2)\n",
        "plt.plot(history.history['accuracy'], label='Train')\n",
        "plt.plot(history.history['val_accuracy'], label='Validation')\n",
        "\n",
        "plt.title('Model accuracy')\n",
        "plt.xlabel('Epoch')\n",
        "plt.ylabel('Accuracy')\n",
        "plt.legend()\n",
        "\n",
        "plt.tight_layout()\n",
        "plt.show()\n"
      ]
    },
    {
      "cell_type": "code",
      "execution_count": null,
      "metadata": {
        "colab": {
          "base_uri": "https://localhost:8080/"
        },
        "id": "yoXaSfoBvJxr",
        "outputId": "3d003b8d-6a46-4871-c2c4-96a0502527ab"
      },
      "outputs": [
        {
          "output_type": "stream",
          "name": "stderr",
          "text": [
            "/usr/local/lib/python3.10/dist-packages/keras/src/engine/training.py:3103: UserWarning: You are saving your model as an HDF5 file via `model.save()`. This file format is considered legacy. We recommend using instead the native Keras format, e.g. `model.save('my_model.keras')`.\n",
            "  saving_api.save_model(\n"
          ]
        }
      ],
      "source": [
        "'''\n",
        "last step of training :    xfvfdgdfg\n",
        "Epoch 30/30\n",
        "56/56 [==============================] - 61s 1s/step - loss: 0.3110 - accuracy: 0.8142 - val_loss: 0.0254 - val_accuracy: 0.9753\n",
        "<keras.callbacks.History at 0x7f4ccc806eb8>\n",
        "'''\n",
        "model.save(\"drive/My Drive/Colab Notebooks/SigNet/colab_08072019.h5\")"
      ]
    },
    {
      "cell_type": "code",
      "source": [
        "from keras.models import load_model\n",
        "\n",
        "mod = load_model('./drive/My Drive/Colab Notebooks/SigNet/colab_08072019.h5',custom_objects={'contrastive_loss':contrastive_loss})"
      ],
      "metadata": {
        "id": "0VVJbVX-Yvw_"
      },
      "execution_count": null,
      "outputs": []
    },
    {
      "cell_type": "code",
      "execution_count": null,
      "metadata": {
        "colab": {
          "base_uri": "https://localhost:8080/",
          "height": 338
        },
        "id": "szBf4DU2KLwZ",
        "outputId": "3d9a5a1a-c0f2-4a32-a79e-dd76f31e575a"
      },
      "outputs": [
        {
          "output_type": "error",
          "ename": "FileNotFoundError",
          "evalue": "[Errno 2] No such file or directory: '/content/forgeries_6_21.png'",
          "traceback": [
            "\u001b[0;31m---------------------------------------------------------------------------\u001b[0m",
            "\u001b[0;31mFileNotFoundError\u001b[0m                         Traceback (most recent call last)",
            "\u001b[0;32m<ipython-input-16-26eb19696bde>\u001b[0m in \u001b[0;36m<cell line: 1>\u001b[0;34m()\u001b[0m\n\u001b[0;32m----> 1\u001b[0;31m \u001b[0mimg\u001b[0m \u001b[0;34m=\u001b[0m \u001b[0mremove_background\u001b[0m\u001b[0;34m(\u001b[0m\u001b[0;34m'/content/forgeries_6_21.png'\u001b[0m\u001b[0;34m)\u001b[0m\u001b[0;34m\u001b[0m\u001b[0;34m\u001b[0m\u001b[0m\n\u001b[0m\u001b[1;32m      2\u001b[0m \u001b[0mimg\u001b[0m\u001b[0;34m.\u001b[0m\u001b[0mshape\u001b[0m\u001b[0;34m\u001b[0m\u001b[0;34m\u001b[0m\u001b[0m\n",
            "\u001b[0;32m<ipython-input-2-e5d7c1b0c8b2>\u001b[0m in \u001b[0;36mremove_background\u001b[0;34m(image_path)\u001b[0m\n\u001b[1;32m      6\u001b[0m \u001b[0;32mdef\u001b[0m \u001b[0mremove_background\u001b[0m\u001b[0;34m(\u001b[0m\u001b[0mimage_path\u001b[0m\u001b[0;34m)\u001b[0m\u001b[0;34m:\u001b[0m\u001b[0;34m\u001b[0m\u001b[0;34m\u001b[0m\u001b[0m\n\u001b[1;32m      7\u001b[0m     \u001b[0;31m# Load the image\u001b[0m\u001b[0;34m\u001b[0m\u001b[0;34m\u001b[0m\u001b[0m\n\u001b[0;32m----> 8\u001b[0;31m     \u001b[0mimg\u001b[0m \u001b[0;34m=\u001b[0m \u001b[0mmahotas\u001b[0m\u001b[0;34m.\u001b[0m\u001b[0mimread\u001b[0m\u001b[0;34m(\u001b[0m\u001b[0mimage_path\u001b[0m\u001b[0;34m)\u001b[0m\u001b[0;34m\u001b[0m\u001b[0;34m\u001b[0m\u001b[0m\n\u001b[0m\u001b[1;32m      9\u001b[0m \u001b[0;34m\u001b[0m\u001b[0m\n\u001b[1;32m     10\u001b[0m     \u001b[0;31m# Check if the image has three channels\u001b[0m\u001b[0;34m\u001b[0m\u001b[0;34m\u001b[0m\u001b[0m\n",
            "\u001b[0;32m/usr/local/lib/python3.10/dist-packages/mahotas/io/pil.py\u001b[0m in \u001b[0;36mimread\u001b[0;34m(filename, as_grey)\u001b[0m\n\u001b[1;32m     15\u001b[0m         \u001b[0mWhether\u001b[0m \u001b[0mto\u001b[0m \u001b[0mconvert\u001b[0m \u001b[0mto\u001b[0m \u001b[0mgrey\u001b[0m \u001b[0mscale\u001b[0m \u001b[0mimage\u001b[0m \u001b[0;34m(\u001b[0m\u001b[0mdefault\u001b[0m\u001b[0;34m:\u001b[0m \u001b[0mno\u001b[0m\u001b[0;34m)\u001b[0m\u001b[0;34m\u001b[0m\u001b[0;34m\u001b[0m\u001b[0m\n\u001b[1;32m     16\u001b[0m     '''\n\u001b[0;32m---> 17\u001b[0;31m     \u001b[0mim\u001b[0m \u001b[0;34m=\u001b[0m \u001b[0mImage\u001b[0m\u001b[0;34m.\u001b[0m\u001b[0mopen\u001b[0m\u001b[0;34m(\u001b[0m\u001b[0mfilename\u001b[0m\u001b[0;34m)\u001b[0m\u001b[0;34m\u001b[0m\u001b[0;34m\u001b[0m\u001b[0m\n\u001b[0m\u001b[1;32m     18\u001b[0m     \u001b[0marray\u001b[0m \u001b[0;34m=\u001b[0m \u001b[0mnp\u001b[0m\u001b[0;34m.\u001b[0m\u001b[0marray\u001b[0m\u001b[0;34m(\u001b[0m\u001b[0mim\u001b[0m\u001b[0;34m)\u001b[0m\u001b[0;34m\u001b[0m\u001b[0;34m\u001b[0m\u001b[0m\n\u001b[1;32m     19\u001b[0m     \u001b[0;32mif\u001b[0m \u001b[0mas_grey\u001b[0m \u001b[0;32mand\u001b[0m \u001b[0marray\u001b[0m\u001b[0;34m.\u001b[0m\u001b[0mndim\u001b[0m \u001b[0;34m!=\u001b[0m \u001b[0;36m2\u001b[0m\u001b[0;34m:\u001b[0m\u001b[0;34m\u001b[0m\u001b[0;34m\u001b[0m\u001b[0m\n",
            "\u001b[0;32m/usr/local/lib/python3.10/dist-packages/PIL/Image.py\u001b[0m in \u001b[0;36mopen\u001b[0;34m(fp, mode, formats)\u001b[0m\n\u001b[1;32m   3225\u001b[0m \u001b[0;34m\u001b[0m\u001b[0m\n\u001b[1;32m   3226\u001b[0m     \u001b[0;32mif\u001b[0m \u001b[0mfilename\u001b[0m\u001b[0;34m:\u001b[0m\u001b[0;34m\u001b[0m\u001b[0;34m\u001b[0m\u001b[0m\n\u001b[0;32m-> 3227\u001b[0;31m         \u001b[0mfp\u001b[0m \u001b[0;34m=\u001b[0m \u001b[0mbuiltins\u001b[0m\u001b[0;34m.\u001b[0m\u001b[0mopen\u001b[0m\u001b[0;34m(\u001b[0m\u001b[0mfilename\u001b[0m\u001b[0;34m,\u001b[0m \u001b[0;34m\"rb\"\u001b[0m\u001b[0;34m)\u001b[0m\u001b[0;34m\u001b[0m\u001b[0;34m\u001b[0m\u001b[0m\n\u001b[0m\u001b[1;32m   3228\u001b[0m         \u001b[0mexclusive_fp\u001b[0m \u001b[0;34m=\u001b[0m \u001b[0;32mTrue\u001b[0m\u001b[0;34m\u001b[0m\u001b[0;34m\u001b[0m\u001b[0m\n\u001b[1;32m   3229\u001b[0m \u001b[0;34m\u001b[0m\u001b[0m\n",
            "\u001b[0;31mFileNotFoundError\u001b[0m: [Errno 2] No such file or directory: '/content/forgeries_6_21.png'"
          ]
        }
      ],
      "source": [
        "img = remove_background('/content/forgeries_6_21.png')\n",
        "img.shape"
      ]
    },
    {
      "cell_type": "code",
      "execution_count": null,
      "metadata": {
        "id": "T-j8uTxjDFtk"
      },
      "outputs": [],
      "source": [
        "\n",
        "# data = img\n",
        "# print('Shape of Input data :',data.shape)\n",
        "\n",
        "# # Perform dictionary learning\n",
        "# n_components = 100 # Number of dictionary atoms to learn\n",
        "# dl = MiniBatchDictionaryLearning(n_components=n_components,\n",
        "# \t\t\t\t\t\t\t\talpha=1.0,\n",
        "# \t\t\t\t\t\t\t\tn_iter=500)\n",
        "# # training\n",
        "# dl.fit(data)\n",
        "\n",
        "# # Denoise the patches using the learned dictionary\n",
        "# denoised_patches = np.dot(dl.transform(data), dl.components_)\n",
        "# print('Shape of Output Denoised patches:',denoised_patches.shape)\n",
        "\n",
        "# # Show the original noisy image and the denoised image\n",
        "# plt.figure(figsize=(10, 5))\n",
        "# plt.subplot(1, 2, 1)\n",
        "# plt.imshow(data,cmap='gray')\n",
        "# plt.title('Noisy Image')\n",
        "# plt.axis('off')\n",
        "# plt.subplot(1, 2, 2)\n",
        "# plt.imshow(denoised_patches,cmap='gray')\n",
        "# plt.title('Denoised Image')\n",
        "# plt.axis('off')\n",
        "# plt.show()"
      ]
    },
    {
      "cell_type": "code",
      "execution_count": null,
      "metadata": {
        "id": "vGMaR834ESN4"
      },
      "outputs": [],
      "source": [
        "# import matplotlib.pyplot as plt\n",
        "# import numpy as np\n",
        "\n",
        "\n",
        "# def show_image_difference(image1, image2, title1='Image 1', title2='Image 2'):\n",
        "#     \"\"\"\n",
        "#     Display the difference between two images side by side.\n",
        "\n",
        "#     Parameters:\n",
        "#     - image1: First input image.\n",
        "#     - image2: Second input image.\n",
        "#     - title1: Title for the first image (default: 'Image 1').\n",
        "#     - title2: Title for the second image (default: 'Image 2').\n",
        "#     \"\"\"\n",
        "#     # Ensure images have the same shape\n",
        "#     if image1.shape != image2.shape:\n",
        "#         raise ValueError(\"Input images must have the same shape.\")\n",
        "\n",
        "#     # Create a figure with two subplots\n",
        "#     fig, axs = plt.subplots(1, 2, figsize=(10, 5))\n",
        "\n",
        "#     # Plot the first image\n",
        "#     axs[0].imshow(image1, cmap='gray')\n",
        "#     axs[0].set_title(title1)\n",
        "#     axs[0].axis('off')\n",
        "\n",
        "#     # Plot the second image\n",
        "#     axs[1].imshow(image2, cmap='gray')\n",
        "#     axs[1].set_title(title2)\n",
        "#     axs[1].axis('off')\n",
        "\n",
        "#     # Show the difference image\n",
        "#     diff_image = np.abs(image1 - image2)\n",
        "#     fig_diff, ax_diff = plt.subplots(figsize=(5, 5))\n",
        "#     ax_diff.imshow(diff_image, cmap='viridis')\n",
        "#     ax_diff.set_title('Absolute Difference')\n",
        "#     ax_diff.axis('off')\n",
        "\n",
        "#     # Show the plots\n",
        "#     plt.show()\n",
        "\n",
        "# # Example usage:\n",
        "# # Assuming you have two images represented as 2D numpy arrays called 'image1' and 'image2'\n",
        "# # show_image_difference(image1, image2, title1='Original Image', title2='Modified Image')\n",
        "# # non_adv = mahotas.imread('/content/forgeries_1_1.png')\n",
        "# non_adv = remove_background('/content/original_6_21.png')\n",
        "# show_image_difference(adv, non_adv, title1='Adversarial', title2='Non-adversarial')"
      ]
    },
    {
      "cell_type": "code",
      "execution_count": null,
      "metadata": {
        "id": "qhcz3E7lHhUd"
      },
      "outputs": [],
      "source": [
        "# def remove_background(image_path):\n",
        "#     # Load the image\n",
        "#     img = mahotas.imread(image_path)\n",
        "\n",
        "#     # Perform Otsu thresholding to separate foreground and background\n",
        "#     T_otsu = mahotas.otsu(img)\n",
        "#     thresholded_img = img > T_otsu\n",
        "\n",
        "#     # Create a mask to keep the foreground in grayscale and set the background to white\n",
        "#     grayscale_img = img.copy()\n",
        "#     grayscale_img[thresholded_img] = 255  # Set foreground to whit\n",
        "\n",
        "#     return grayscale_img.astype(np.uint8)"
      ]
    },
    {
      "cell_type": "markdown",
      "source": [
        "### Forgerie and Original"
      ],
      "metadata": {
        "id": "Xe2f5MP4appe"
      }
    },
    {
      "cell_type": "code",
      "execution_count": null,
      "metadata": {
        "id": "FOPbB5jyrklA"
      },
      "outputs": [],
      "source": [
        "\n",
        "from skimage import io, transform\n",
        "\n",
        "import cv2\n",
        "import numpy as np\n",
        "import matplotlib.pyplot as plt\n",
        "\n",
        "\n",
        "# # Load the images\n",
        "im_1 = cv2.imread(f'/content/dataset/CEDAR_SIG/full_forg/forgeries_10_{2}.png')\n",
        "im_2 = cv2.imread(f'/content/dataset/CEDAR_SIG/full_org/original_10_{1}.png')\n",
        "# im_1 = remove_background('/content/forgeries_6_21.png')\n",
        "# im_2 = remove_background('/content/original_6_21.png')\n",
        "# Convert the image to gray scale image\n",
        "# img_1 = cv2.cvtColor(im_1, cv2.COLOR_BGR2GRAY);\n",
        "# Resize the images\n",
        "print(im_1.shape)\n",
        "im_1 = cv2.resize(im_1, (220, 155))\n",
        "im_2 = cv2.resize(im_2, (220, 155))\n",
        "\n",
        "# Invert the colors and normalize\n",
        "im_1 = cv2.bitwise_not(im_1)\n",
        "im_2 = cv2.bitwise_not(im_2)\n",
        "im_1 = im_1 / 255.0\n",
        "im_2 = im_2 / 255.0\n",
        "\n",
        "# Expand dimensions for model input\n",
        "im_1 = np.expand_dims(im_1, axis=0)\n",
        "im_2 = np.expand_dims(im_2, axis=0)\n",
        "\n",
        "\n",
        "# Create a figure with two subplots\n",
        "fig, axes = plt.subplots(1, 2)\n",
        "\n",
        "# Display the first image\n",
        "axes[0].imshow(im_1[0], cmap='gray')\n",
        "axes[0].set_title(\"Pat # (Generated Original)\")  # Set the label for img 1\n",
        "axes[0].axis('off')  # Turn off axis labels\n",
        "\n",
        "# Display the second image\n",
        "axes[1].imshow(im_2[0], cmap='gray')\n",
        "axes[1].set_title(\"Pat # (Non-generated Forged)\")  # Set the label for img 2\n",
        "axes[1].axis('off')  # Turn off axis labels\n",
        "\n",
        "# Show the plot\n",
        "plt.show()\n",
        "\n",
        "print(im_1.shape,im_2.shape)\n",
        "y_pred = model.predict([im_1,im_2])"
      ]
    },
    {
      "cell_type": "code",
      "execution_count": null,
      "metadata": {
        "id": "E-PcpKFB9xyh"
      },
      "outputs": [],
      "source": [
        "y_pred"
      ]
    },
    {
      "cell_type": "markdown",
      "source": [
        "#### Original and different variation of Original"
      ],
      "metadata": {
        "id": "yqHR53EvaxoT"
      }
    },
    {
      "cell_type": "code",
      "source": [
        "\n",
        "from skimage import io, transform\n",
        "\n",
        "import cv2\n",
        "import numpy as np\n",
        "import matplotlib.pyplot as plt\n",
        "\n",
        "\n",
        "# # Load the images\n",
        "# im_1 = cv2.imread(f'/content/dataset/CEDAR_SIG/full_org/original_10_{3}.png')\n",
        "# im_2 = cv2.imread(f'/content/dataset/CEDAR_SIG/full_org/original_10_{1}.png')\n",
        "im_1 = remove_background(f'/content/dataset/CEDAR_SIG/full_org/original_10_{3}.png')\n",
        "im_2 = remove_background(f'/content/dataset/CEDAR_SIG/full_org/original_10_{1}.png')\n",
        "# Convert the image to gray scale image\n",
        "# img_1 = cv2.cvtColor(im_1, cv2.COLOR_BGR2GRAY);\n",
        "# Resize the images\n",
        "print(im_1.shape)\n",
        "im_1 = cv2.resize(im_1, (220, 155))\n",
        "im_2 = cv2.resize(im_2, (220, 155))\n",
        "\n",
        "# Invert the colors and normalize\n",
        "im_1 = cv2.bitwise_not(im_1)\n",
        "im_2 = cv2.bitwise_not(im_2)\n",
        "im_1 = im_1 / 255.0\n",
        "im_2 = im_2 / 255.0\n",
        "\n",
        "# Expand dimensions for model input\n",
        "im_1 = np.expand_dims(im_1, axis=0)\n",
        "im_2 = np.expand_dims(im_2, axis=0)\n",
        "\n",
        "\n",
        "# Create a figure with two subplots\n",
        "fig, axes = plt.subplots(1, 2)\n",
        "\n",
        "# Display the first image\n",
        "axes[0].imshow(im_1[0], cmap='gray')\n",
        "axes[0].set_title(\"Pat # (Generated Original)\")  # Set the label for img 1\n",
        "axes[0].axis('off')  # Turn off axis labels\n",
        "\n",
        "# Display the second image\n",
        "axes[1].imshow(im_2[0], cmap='gray')\n",
        "axes[1].set_title(\"Pat # (Non-generated Forged)\")  # Set the label for img 2\n",
        "axes[1].axis('off')  # Turn off axis labels\n",
        "\n",
        "# Show the plot\n",
        "plt.show()\n",
        "\n",
        "print(im_1.shape,im_2.shape)\n",
        "y_pred = model.predict([im_1,im_2])\n",
        "y_pred"
      ],
      "metadata": {
        "id": "sVEUBoxZaxLj"
      },
      "execution_count": null,
      "outputs": []
    },
    {
      "cell_type": "code",
      "execution_count": null,
      "metadata": {
        "id": "71Q6GGjX91_N"
      },
      "outputs": [],
      "source": [
        "\n",
        "import cv2\n",
        "import numpy as np\n",
        "import matplotlib.pyplot as plt\n",
        "\n",
        "total = 0\n",
        "pos = 0\n",
        "for i in range(40):\n",
        "  for v in range(12):\n",
        "\n",
        "    # Load the images\n",
        "    im_1 = cv2.imread(f'/content/dataset/CEDAR_SIG/full_org/original_{i+1}_{v+1}.png')\n",
        "    im_2 = cv2.imread(f'/content/dataset/CEDAR_SIG/full_forg/forgeries_{i+1}_{v+2}.png')\n",
        "\n",
        "    # Resize the images\n",
        "    im_1 = cv2.resize(im_1, (220, 155))\n",
        "    im_2 = cv2.resize(im_2, (220, 155))\n",
        "\n",
        "    # Invert the colors and normalize\n",
        "    im_1 = cv2.bitwise_not(im_1)\n",
        "    im_2 = cv2.bitwise_not(im_2)\n",
        "    im_1 = im_1 / 255.0\n",
        "    im_2 = im_2 / 255.0\n",
        "    # Expand dimensions for model input\n",
        "    im_1 = np.expand_dims(im_1, axis=0)\n",
        "    im_2 = np.expand_dims(im_2, axis=0)\n",
        "\n",
        "    y_pred = model.predict([im_1,im_2])\n",
        "    total+=1\n",
        "    print(y_pred[0][0])\n",
        "    if y_pred[0][0]>=0.5:\n",
        "      pos+=1\n",
        "\n",
        "print(f'Accuracy {(pos/total)*100}%')\n"
      ]
    },
    {
      "cell_type": "markdown",
      "source": [
        "### Test On Generated Image"
      ],
      "metadata": {
        "id": "u3x9X_0XdOsy"
      }
    },
    {
      "cell_type": "code",
      "execution_count": null,
      "metadata": {
        "id": "KmdkhG9fI34a"
      },
      "outputs": [],
      "source": [
        "\n",
        "import cv2\n",
        "import numpy as np\n",
        "import matplotlib.pyplot as plt\n",
        "\n",
        "# Load the images\n",
        "im_1 = cv2.imread(\"/content/original/original_33_3.png\")\n",
        "im_2 = cv2.imread(\"/content/Generated/original_33_3.png\")\n",
        "# im_2 = cv2.imread(\"/content/dataset/CEDAR_SIG/full_org/original_33_3.png\")\n",
        "\n",
        "# im_2 = cv2.imread(\"/content/dataset/CEDAR_SIG/full_org/original_24_19.png\")\n",
        "# Resize the images\n",
        "im_1 = cv2.resize(im_1, (220, 155))\n",
        "im_2 = cv2.resize(im_2, (220, 155))\n",
        "print(im_2.shape, im_1.shape)\n",
        "\n",
        "# Invert the colors and normalize\n",
        "im_1 = cv2.bitwise_not(im_1)\n",
        "im_2 = cv2.bitwise_not(im_2)\n",
        "im_1 = im_1 / 255.0\n",
        "im_2 = im_2 / 255.0\n",
        "\n",
        "# Expand dimensions for model input\n",
        "im_1 = np.expand_dims(im_1, axis=0)\n",
        "im_2 = np.expand_dims(im_2, axis=0)\n",
        "\n",
        "# Create a figure with two subplots\n",
        "fig, axes = plt.subplots(1, 2)\n",
        "\n",
        "# Display the first image\n",
        "axes[0].imshow(im_1[0], cmap='gray')\n",
        "axes[0].set_title(\"Pat # (Generated Original)\")  # Set the label for img 1\n",
        "axes[0].axis('off')  # Turn off axis labels\n",
        "\n",
        "# Display the second image\n",
        "axes[1].imshow(im_2[0], cmap='gray')\n",
        "axes[1].set_title(\"Pat # (Non-Generated Original)\")  # Set the label for img 2\n",
        "axes[1].axis('off')  # Turn off axis labels\n",
        "\n",
        "# Show the plot\n",
        "plt.show()\n",
        "\n",
        "y_pred = model.predict([im_1,im_2])"
      ]
    },
    {
      "cell_type": "code",
      "execution_count": null,
      "metadata": {
        "id": "I8ifqyHsc_s5"
      },
      "outputs": [],
      "source": [
        "y_pred"
      ]
    },
    {
      "cell_type": "markdown",
      "source": [
        "#### Dictionary Learning adversarial perturbation"
      ],
      "metadata": {
        "id": "RZ0O05uqPMJN"
      }
    },
    {
      "cell_type": "code",
      "source": [
        "import os\n",
        "import cv2\n",
        "import numpy as np\n",
        "from sklearn.decomposition import MiniBatchDictionaryLearning\n",
        "from sklearn.feature_extraction import image\n",
        "import matplotlib.pyplot as plt\n",
        "\n",
        "img = cv2.imread('/content/original/original_33_3.png', cv2.IMREAD_GRAYSCALE)\n",
        "img = cv2.resize(img, (220,155))\n",
        "img = cv2.bitwise_not(img)\n",
        "\n",
        "noisy_image = img\n",
        "print('Noise Image shape:',noisy_image.shape)\n",
        "\n",
        "# Extract small patches from the grayscale image\n",
        "patch_size = (3, 3)\n",
        "patches = image.extract_patches_2d(noisy_image, patch_size)\n",
        "print('Number of Patches :',patches.shape[0])\n",
        "print('Shape of patches:',patches.shape)\n",
        "# Reshape the patches for dictionary learning\n",
        "data = patches.reshape(patches.shape[0], -1)\n",
        "print('Shape of Input data :',data.shape)\n",
        "\n",
        "# Perform dictionary learning\n",
        "n_components = 100 # Number of dictionary atoms to learn\n",
        "dl = MiniBatchDictionaryLearning(n_components=n_components,\n",
        "\t\t\t\t\t\t\t\talpha=0.004,\n",
        "\t\t\t\t\t\t\t\tn_iter=50)\n",
        "# training\n",
        "dl.fit(data)\n",
        "\n",
        "# Denoise the patches using the learned dictionary\n",
        "denoised_patches = np.dot(dl.transform(data), dl.components_)\n",
        "print('Shape of Output Denoised patches:',denoised_patches.shape)\n",
        "\n",
        "# Reshape the denoised patches back to their original shape\n",
        "denoised_patches = denoised_patches.reshape(patches.shape)\n",
        "\n",
        "# Reconstruct the denoised image from the patches\n",
        "reconstructed_image = image.reconstruct_from_patches_2d(denoised_patches, noisy_image.shape)\n",
        "data = img\n",
        "\n",
        "# Perform dictionary learning\n",
        "n_components = 100 # Number of dictionary atoms to learn\n",
        "dl = MiniBatchDictionaryLearning(n_components=n_components,\n",
        "\t\t\t\t\t\t\t\talpha=1.0,\n",
        "\t\t\t\t\t\t\t\tn_iter=500)\n",
        "# training\n",
        "dl.fit(data)\n",
        "\n",
        "# Denoise the patches using the learned dictionary\n",
        "denoised_patches = np.dot(dl.transform(data), dl.components_)\n",
        "\n",
        "\n",
        "adv = data  * (0.000001*denoised_patches)\n",
        "y_pred = model.predict([adv,img])\n",
        "y_pred"
      ],
      "metadata": {
        "id": "YxiKruCwPQNF"
      },
      "execution_count": null,
      "outputs": []
    },
    {
      "cell_type": "markdown",
      "source": [
        "### Test On All Generated Images"
      ],
      "metadata": {
        "id": "nBAZJUU_dUXD"
      }
    },
    {
      "cell_type": "code",
      "source": [
        "zip_file_path = '/content/Generated Images.zip'\n",
        "extract_path = '/content/generated1_dataset'\n",
        "extract_zip_file(zip_file_path, extract_path)"
      ],
      "metadata": {
        "id": "gEk6dFk1dWlE"
      },
      "execution_count": null,
      "outputs": []
    },
    {
      "cell_type": "code",
      "source": [
        "import os\n",
        "\n",
        "def print_image_names_colab(folder_path):\n",
        "    # List files in the specified folder\n",
        "    files = os.listdir(folder_path)\n",
        "\n",
        "    # Filter out only image files (you can customize the list of supported extensions)\n",
        "    image_extensions = ['.jpg', '.jpeg', '.png', '.gif', '.bmp']\n",
        "    image_files = [file for file in files if any(file.lower().endswith(ext) for ext in image_extensions)]\n",
        "    total = 0\n",
        "    pos = 0\n",
        "    # Print the names of the image files\n",
        "    if not image_files:\n",
        "        print(f\"No image files found in the folder '{folder_path}'.\")\n",
        "    else:\n",
        "        print(\"Image files in the folder:\")\n",
        "        for image_file in image_files:\n",
        "            # print(image_file)\n",
        "\n",
        "            # Load the images\n",
        "            im_1 = cv2.imread(f'/content/original/{image_file}')\n",
        "            im_2 = cv2.imread(f'/content/Generated/{image_file}')\n",
        "\n",
        "            # Resize the images\n",
        "            im_1 = cv2.resize(im_1, (220, 155))\n",
        "            im_2 = cv2.resize(im_2, (220, 155))\n",
        "\n",
        "            # Invert the colors and normalize\n",
        "            im_1 = cv2.bitwise_not(im_1)\n",
        "            im_2 = cv2.bitwise_not(im_2)\n",
        "            im_1 = im_1 / 255.0\n",
        "            im_2 = im_2 / 255.0\n",
        "            # Expand dimensions for model input\n",
        "            im_1 = np.expand_dims(im_1, axis=0)\n",
        "            im_2 = np.expand_dims(im_2, axis=0)\n",
        "            # Create a figure with two subplots\n",
        "            fig, axes = plt.subplots(1, 2)\n",
        "\n",
        "            # Display the first image\n",
        "            axes[0].imshow(im_1[0], cmap='gray')\n",
        "            axes[0].set_title(\"Pat # (Generated Original)\")  # Set the label for img 1\n",
        "            axes[0].axis('off')  # Turn off axis labels\n",
        "\n",
        "            # Display the second image\n",
        "            axes[1].imshow(im_2[0], cmap='gray')\n",
        "            axes[1].set_title(\"Pat # (Non-Generated Original)\")  # Set the label for img 2\n",
        "            axes[1].axis('off')  # Turn off axis labels\n",
        "\n",
        "            # Show the plot\n",
        "            plt.show()\n",
        "\n",
        "            y_pred = model.predict([im_1,im_2])\n",
        "            total+=1\n",
        "            print(y_pred[0][0])\n",
        "            if y_pred[0][0]<=0.6:\n",
        "              pos+=1\n",
        "        print(f'Accuracy {(pos/total)*100}%')\n",
        "\n",
        "# Example usage:\n",
        "folder_path_colab = \"/content/Generated\"  # Change to the path of your folder in Colab\n",
        "print_image_names_colab(folder_path_colab)\n"
      ],
      "metadata": {
        "id": "icR1NiHJj95i"
      },
      "execution_count": null,
      "outputs": []
    },
    {
      "cell_type": "markdown",
      "source": [
        "### Remove background of original dataset\n",
        "\n"
      ],
      "metadata": {
        "id": "qohNpbzdd8Rc"
      }
    },
    {
      "cell_type": "code",
      "source": [
        "import os\n",
        "import mahotas\n",
        "import albumentations as A\n",
        "from albumentations.pytorch import ToTensorV2\n",
        "import matplotlib.pyplot as plt\n",
        "from PIL import Image\n",
        "import cv2  # Add this import\n",
        "\n",
        "import os\n",
        "import mahotas\n",
        "import albumentations as A\n",
        "from albumentations.pytorch import ToTensorV2\n",
        "import matplotlib.pyplot as plt\n",
        "from PIL import Image\n",
        "import cv2  # Add this import\n",
        "\n",
        "def remove_background_and_save(image_path, category,save_path=\"/content\"):\n",
        "    # Load the image\n",
        "    img = mahotas.imread(image_path)\n",
        "\n",
        "    # Perform Otsu thresholding to separate foreground and background\n",
        "    T_otsu = mahotas.otsu(img)\n",
        "    thresholded_img = img > T_otsu\n",
        "\n",
        "    # Create a mask to keep the foreground in grayscale and set the background to white\n",
        "    grayscale_img = img.copy()\n",
        "    grayscale_img[thresholded_img] = 255  # Set foreground to white\n",
        "\n",
        "    # Save the processed image in the \"preprocessed\" folder\n",
        "    preprocessed_folder = os.path.join(save_path, category)\n",
        "    os.makedirs(preprocessed_folder, exist_ok=True)  # Create the folder if it doesn't exist\n",
        "\n",
        "    save_name = os.path.basename(image_path)\n",
        "    save_name = os.path.splitext(save_name)[0] + \".png\"\n",
        "    save_path = os.path.join(preprocessed_folder, save_name)\n",
        "    cv2.imwrite(save_path, grayscale_img)\n",
        "\n",
        "    # # Plot the original and processed images side by side\n",
        "    # fig, axs = plt.subplots(1, 2, figsize=(10, 5))\n",
        "\n",
        "    # # Plot original image\n",
        "    # axs[0].imshow(img, cmap='gray')\n",
        "    # axs[0].set_title('Original Image')\n",
        "    # axs[0].axis('off')\n",
        "\n",
        "    # # Plot image after background removal\n",
        "    # axs[1].imshow(grayscale_img, cmap='gray')\n",
        "    # axs[1].set_title('After Background Removal')\n",
        "    # axs[1].axis('off')\n",
        "\n",
        "    # plt.show()\n",
        "\n",
        "    return grayscale_img.astype(np.uint8)\n",
        "\n",
        "\n"
      ],
      "metadata": {
        "id": "LGcx-dKslg_J"
      },
      "execution_count": null,
      "outputs": []
    },
    {
      "cell_type": "code",
      "source": [
        "image_path = \"/content/original_33_3_processed.png\"\n",
        "img = cv2.imread(image_path)\n",
        "print(img.shape)"
      ],
      "metadata": {
        "id": "04xp8xgKlmFw"
      },
      "execution_count": null,
      "outputs": []
    },
    {
      "cell_type": "code",
      "source": [
        "import os\n",
        "\n",
        "def save_removed_background_img(folder_path,signature_category):\n",
        "    # List files in the specified folder\n",
        "    files = os.listdir(folder_path)\n",
        "\n",
        "    # Filter out only image files (you can customize the list of supported extensions)\n",
        "    image_extensions = ['.jpg', '.jpeg', '.png', '.gif', '.bmp']\n",
        "    image_files = [file for file in files if any(file.lower().endswith(ext) for ext in image_extensions)]\n",
        "    total = 0\n",
        "    pos = 0\n",
        "    # Print the names of the image files\n",
        "    if not image_files:\n",
        "        print(f\"No image files found in the folder '{folder_path}'.\")\n",
        "    else:\n",
        "        print(\"Image files in the folder:\")\n",
        "        for image_file in image_files:\n",
        "          # Example usage\n",
        "          save_name = image_file.split(\"_\")\n",
        "          save_name = f'{signature_category}_{save_name[1]}_{save_name[2].split(\".\")[0]}.png'\n",
        "          image_path = f\"/content/dataset/CEDAR_SIG/full_forg/{save_name}\"\n",
        "          result_img = remove_background_and_save(image_path,signature_category)\n",
        "\n"
      ],
      "metadata": {
        "id": "AfyTrSvSnRaD"
      },
      "execution_count": null,
      "outputs": []
    },
    {
      "cell_type": "code",
      "source": [
        "name = 'original_32_3.png'\n",
        "\n",
        "# Split the name by \"-\"\n",
        "name_parts = name.split(\"_\")\n",
        "\n",
        "# Print the result\n",
        "print(name_parts)\n"
      ],
      "metadata": {
        "id": "ytkj5DPRrg5b"
      },
      "execution_count": null,
      "outputs": []
    },
    {
      "cell_type": "code",
      "source": [
        "import os\n",
        "\n",
        "def print_image_names_colab(folder_path):\n",
        "    # List files in the specified folder\n",
        "    files = os.listdir(folder_path)\n",
        "\n",
        "    # Filter out only image files (you can customize the list of supported extensions)\n",
        "    image_extensions = ['.jpg', '.jpeg', '.png', '.gif', '.bmp']\n",
        "    image_files = [file for file in files if any(file.lower().endswith(ext) for ext in image_extensions)]\n",
        "    total = 0\n",
        "    pos = 0\n",
        "    # Print the names of the image files\n",
        "    if not image_files:\n",
        "        print(f\"No image files found in the folder '{folder_path}'.\")\n",
        "    else:\n",
        "        print(\"Image files in the folder:\")\n",
        "        for image_file in image_files:\n",
        "            # print(image_file)\n",
        "            save_name = image_file.split(\"_\")\n",
        "            forgeries = f'forgeries_{save_name[1]}_{save_name[2].split(\".\")[0]}.png'\n",
        "            original = f'original_{save_name[1]}_{save_name[2].split(\".\")[0]}.png'\n",
        "\n",
        "            # Load the images\n",
        "            im_1 = cv2.imread(f'/content/preprocessed/{original}')\n",
        "            im_2 = cv2.imread(f'/content/forgery_preprocessed/{forgeries}')\n",
        "\n",
        "            # Resize the images\n",
        "            im_1 = cv2.resize(im_1, (220, 155))\n",
        "            im_2 = cv2.resize(im_2, (220, 155))\n",
        "\n",
        "            # Invert the colors and normalize\n",
        "            im_1 = cv2.bitwise_not(im_1)\n",
        "            im_2 = cv2.bitwise_not(im_2)\n",
        "            im_1 = im_1 / 255.0\n",
        "            im_2 = im_2 / 255.0\n",
        "            # Expand dimensions for model input\n",
        "            im_1 = np.expand_dims(im_1, axis=0)\n",
        "            im_2 = np.expand_dims(im_2, axis=0)\n",
        "            # Create a figure with two subplots\n",
        "            fig, axes = plt.subplots(1, 2)\n",
        "\n",
        "            # Display the first image\n",
        "            axes[0].imshow(im_1[0], cmap='gray')\n",
        "            axes[0].set_title(\"Pat # (Generated Original)\")  # Set the label for img 1\n",
        "            axes[0].axis('off')  # Turn off axis labels\n",
        "\n",
        "            # Display the second image\n",
        "            axes[1].imshow(im_2[0], cmap='gray')\n",
        "            axes[1].set_title(\"Pat # (Non-Generated Original)\")  # Set the label for img 2\n",
        "            axes[1].axis('off')  # Turn off axis labels\n",
        "\n",
        "            # Show the plot\n",
        "            plt.show()\n",
        "\n",
        "            y_pred = model.predict([im_1,im_2])\n",
        "            total+=1\n",
        "            print(y_pred[0][0])\n",
        "            if y_pred[0][0]>=0.6:\n",
        "              pos+=1\n",
        "        print(f'Accuracy {(pos/total)*100}%')\n",
        "\n",
        "# Example usage:\n",
        "folder_path_colab = \"/content/generated1_dataset/Generated Images\"  # Change to the path of your folder in Colab\n",
        "print_image_names_colab(folder_path_colab)\n"
      ],
      "metadata": {
        "id": "EGN5DqlfrkOk"
      },
      "execution_count": null,
      "outputs": []
    },
    {
      "cell_type": "markdown",
      "source": [
        "#### GENERATE NEW DATASET WITHOUT BACKGROUND"
      ],
      "metadata": {
        "id": "PL8rsSIqwUj8"
      }
    },
    {
      "cell_type": "code",
      "source": [
        "import numpy as np\n",
        "folder_path_colab = \"/content/dataset/CEDAR_SIG/full_forg\"  # Change to the path of your folder in Colab\n",
        "save_removed_background_img(folder_path_colab,'forgeries')"
      ],
      "metadata": {
        "id": "TMzWrJObwUVT"
      },
      "execution_count": null,
      "outputs": []
    },
    {
      "cell_type": "code",
      "source": [],
      "metadata": {
        "id": "cgRAD4TwxCRo"
      },
      "execution_count": null,
      "outputs": []
    }
  ],
  "metadata": {
    "accelerator": "GPU",
    "colab": {
      "provenance": [],
      "gpuType": "T4"
    },
    "kernelspec": {
      "display_name": "Python 3",
      "name": "python3"
    }
  },
  "nbformat": 4,
  "nbformat_minor": 0
}